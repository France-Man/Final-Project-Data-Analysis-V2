{
 "cells": [
  {
   "cell_type": "markdown",
   "metadata": {},
   "source": [
    "In questo Notebook andremo a fare un'analisi di un dataset dato da un'App di Yoga.\n",
    "Gli obbiettivi sono :\n",
    "- Analizzare l'anno 2021 in generale\n",
    "\n",
    "-  Nello specifico,Trovare tendenze come:\n",
    "   - Categorie più apprezzate\n",
    "   - Andamento degli iscritti\n",
    "   - Mesi più attivi\n",
    "   - Classi più popolari \n",
    "   - Apprezzamento delle categorie \n"
   ]
  },
  {
   "cell_type": "code",
   "execution_count": 48,
   "metadata": {},
   "outputs": [],
   "source": [
    "import pandas as pd\n",
    "import numpy as np \n",
    "import matplotlib.pyplot as plt \n",
    "import seaborn as sns \n",
    "\n",
    "\n",
    "%matplotlib inline \n",
    "\n",
    "import warnings\n",
    "warnings.filterwarnings(\"ignore\",category=FutureWarning)\n",
    "warnings.filterwarnings(\"ignore\",message=\"The figure layout has changed to tight\")\n"
   ]
  },
  {
   "cell_type": "code",
   "execution_count": 49,
   "metadata": {},
   "outputs": [],
   "source": [
    "df = pd.read_csv('Lifestyle_data Final Project.csv')"
   ]
  },
  {
   "cell_type": "code",
   "execution_count": 50,
   "metadata": {},
   "outputs": [
    {
     "data": {
      "text/html": [
       "<div>\n",
       "<style scoped>\n",
       "    .dataframe tbody tr th:only-of-type {\n",
       "        vertical-align: middle;\n",
       "    }\n",
       "\n",
       "    .dataframe tbody tr th {\n",
       "        vertical-align: top;\n",
       "    }\n",
       "\n",
       "    .dataframe thead th {\n",
       "        text-align: right;\n",
       "    }\n",
       "</style>\n",
       "<table border=\"1\" class=\"dataframe\">\n",
       "  <thead>\n",
       "    <tr style=\"text-align: right;\">\n",
       "      <th></th>\n",
       "      <th>class_date</th>\n",
       "      <th>user_uuid</th>\n",
       "      <th>category</th>\n",
       "      <th>coach_id</th>\n",
       "      <th>language</th>\n",
       "      <th>level</th>\n",
       "      <th>challenge_id</th>\n",
       "      <th>country</th>\n",
       "      <th>subscription_date</th>\n",
       "      <th>platform</th>\n",
       "      <th>class_id</th>\n",
       "      <th>stars</th>\n",
       "    </tr>\n",
       "  </thead>\n",
       "  <tbody>\n",
       "    <tr>\n",
       "      <th>0</th>\n",
       "      <td>1-2-2023</td>\n",
       "      <td>2</td>\n",
       "      <td>meditation</td>\n",
       "      <td>102</td>\n",
       "      <td>it</td>\n",
       "      <td>basic</td>\n",
       "      <td>3</td>\n",
       "      <td>it</td>\n",
       "      <td>6-1-2022</td>\n",
       "      <td>tv</td>\n",
       "      <td>2157</td>\n",
       "      <td>1</td>\n",
       "    </tr>\n",
       "    <tr>\n",
       "      <th>1</th>\n",
       "      <td>22-5-2023</td>\n",
       "      <td>241</td>\n",
       "      <td>power yoga</td>\n",
       "      <td>111</td>\n",
       "      <td>it</td>\n",
       "      <td>basic</td>\n",
       "      <td>1</td>\n",
       "      <td>it</td>\n",
       "      <td>11-5-2022</td>\n",
       "      <td>pc</td>\n",
       "      <td>6172</td>\n",
       "      <td>3</td>\n",
       "    </tr>\n",
       "    <tr>\n",
       "      <th>2</th>\n",
       "      <td>6-8-2022</td>\n",
       "      <td>173</td>\n",
       "      <td>power yoga</td>\n",
       "      <td>117</td>\n",
       "      <td>it</td>\n",
       "      <td>advanced</td>\n",
       "      <td>3</td>\n",
       "      <td>it</td>\n",
       "      <td>12-12-2021</td>\n",
       "      <td>pc</td>\n",
       "      <td>6255</td>\n",
       "      <td>2</td>\n",
       "    </tr>\n",
       "    <tr>\n",
       "      <th>3</th>\n",
       "      <td>8-8-2023</td>\n",
       "      <td>217</td>\n",
       "      <td>hatha</td>\n",
       "      <td>100</td>\n",
       "      <td>en</td>\n",
       "      <td>intermediate</td>\n",
       "      <td>3</td>\n",
       "      <td>uk</td>\n",
       "      <td>7-2-2022</td>\n",
       "      <td>tv</td>\n",
       "      <td>3317</td>\n",
       "      <td>4</td>\n",
       "    </tr>\n",
       "    <tr>\n",
       "      <th>4</th>\n",
       "      <td>11-3-2022</td>\n",
       "      <td>230</td>\n",
       "      <td>power yoga</td>\n",
       "      <td>113</td>\n",
       "      <td>fr</td>\n",
       "      <td>basic</td>\n",
       "      <td>2</td>\n",
       "      <td>fr</td>\n",
       "      <td>9-1-2020</td>\n",
       "      <td>pc</td>\n",
       "      <td>6159</td>\n",
       "      <td>1</td>\n",
       "    </tr>\n",
       "  </tbody>\n",
       "</table>\n",
       "</div>"
      ],
      "text/plain": [
       "  class_date  user_uuid    category  coach_id language         level  \\\n",
       "0   1-2-2023          2  meditation       102       it         basic   \n",
       "1  22-5-2023        241  power yoga       111       it         basic   \n",
       "2   6-8-2022        173  power yoga       117       it      advanced   \n",
       "3   8-8-2023        217       hatha       100       en  intermediate   \n",
       "4  11-3-2022        230  power yoga       113       fr         basic   \n",
       "\n",
       "   challenge_id country subscription_date platform  class_id  stars  \n",
       "0             3      it          6-1-2022       tv      2157      1  \n",
       "1             1      it         11-5-2022       pc      6172      3  \n",
       "2             3      it        12-12-2021       pc      6255      2  \n",
       "3             3      uk          7-2-2022       tv      3317      4  \n",
       "4             2      fr          9-1-2020       pc      6159      1  "
      ]
     },
     "execution_count": 50,
     "metadata": {},
     "output_type": "execute_result"
    }
   ],
   "source": [
    "df.head()"
   ]
  },
  {
   "cell_type": "code",
   "execution_count": 51,
   "metadata": {},
   "outputs": [
    {
     "data": {
      "text/plain": [
       "(999, 12)"
      ]
     },
     "execution_count": 51,
     "metadata": {},
     "output_type": "execute_result"
    }
   ],
   "source": [
    "df.shape"
   ]
  },
  {
   "cell_type": "code",
   "execution_count": 52,
   "metadata": {},
   "outputs": [
    {
     "name": "stdout",
     "output_type": "stream",
     "text": [
      "<class 'pandas.core.frame.DataFrame'>\n",
      "RangeIndex: 999 entries, 0 to 998\n",
      "Data columns (total 12 columns):\n",
      " #   Column             Non-Null Count  Dtype \n",
      "---  ------             --------------  ----- \n",
      " 0   class_date         999 non-null    object\n",
      " 1   user_uuid          999 non-null    int64 \n",
      " 2   category           999 non-null    object\n",
      " 3   coach_id           999 non-null    int64 \n",
      " 4   language           999 non-null    object\n",
      " 5   level              999 non-null    object\n",
      " 6   challenge_id       999 non-null    int64 \n",
      " 7   country            999 non-null    object\n",
      " 8   subscription_date  999 non-null    object\n",
      " 9   platform           999 non-null    object\n",
      " 10  class_id           999 non-null    int64 \n",
      " 11  stars              999 non-null    int64 \n",
      "dtypes: int64(5), object(7)\n",
      "memory usage: 93.8+ KB\n"
     ]
    }
   ],
   "source": [
    "df.info()"
   ]
  },
  {
   "cell_type": "code",
   "execution_count": 53,
   "metadata": {},
   "outputs": [
    {
     "data": {
      "text/html": [
       "<div>\n",
       "<style scoped>\n",
       "    .dataframe tbody tr th:only-of-type {\n",
       "        vertical-align: middle;\n",
       "    }\n",
       "\n",
       "    .dataframe tbody tr th {\n",
       "        vertical-align: top;\n",
       "    }\n",
       "\n",
       "    .dataframe thead th {\n",
       "        text-align: right;\n",
       "    }\n",
       "</style>\n",
       "<table border=\"1\" class=\"dataframe\">\n",
       "  <thead>\n",
       "    <tr style=\"text-align: right;\">\n",
       "      <th></th>\n",
       "      <th>user_uuid</th>\n",
       "      <th>coach_id</th>\n",
       "      <th>challenge_id</th>\n",
       "      <th>class_id</th>\n",
       "      <th>stars</th>\n",
       "    </tr>\n",
       "  </thead>\n",
       "  <tbody>\n",
       "    <tr>\n",
       "      <th>count</th>\n",
       "      <td>999.00</td>\n",
       "      <td>999.00</td>\n",
       "      <td>999.00</td>\n",
       "      <td>999.00</td>\n",
       "      <td>999.00</td>\n",
       "    </tr>\n",
       "    <tr>\n",
       "      <th>mean</th>\n",
       "      <td>120.66</td>\n",
       "      <td>111.20</td>\n",
       "      <td>1.50</td>\n",
       "      <td>4171.79</td>\n",
       "      <td>3.02</td>\n",
       "    </tr>\n",
       "    <tr>\n",
       "      <th>std</th>\n",
       "      <td>71.17</td>\n",
       "      <td>6.55</td>\n",
       "      <td>1.12</td>\n",
       "      <td>1878.22</td>\n",
       "      <td>1.42</td>\n",
       "    </tr>\n",
       "    <tr>\n",
       "      <th>min</th>\n",
       "      <td>1.00</td>\n",
       "      <td>100.00</td>\n",
       "      <td>0.00</td>\n",
       "      <td>211.00</td>\n",
       "      <td>1.00</td>\n",
       "    </tr>\n",
       "    <tr>\n",
       "      <th>25%</th>\n",
       "      <td>58.50</td>\n",
       "      <td>106.00</td>\n",
       "      <td>1.00</td>\n",
       "      <td>3149.00</td>\n",
       "      <td>2.00</td>\n",
       "    </tr>\n",
       "    <tr>\n",
       "      <th>50%</th>\n",
       "      <td>118.00</td>\n",
       "      <td>111.00</td>\n",
       "      <td>1.00</td>\n",
       "      <td>4220.00</td>\n",
       "      <td>3.00</td>\n",
       "    </tr>\n",
       "    <tr>\n",
       "      <th>75%</th>\n",
       "      <td>182.00</td>\n",
       "      <td>117.00</td>\n",
       "      <td>3.00</td>\n",
       "      <td>6215.00</td>\n",
       "      <td>4.00</td>\n",
       "    </tr>\n",
       "    <tr>\n",
       "      <th>max</th>\n",
       "      <td>245.00</td>\n",
       "      <td>122.00</td>\n",
       "      <td>3.00</td>\n",
       "      <td>6399.00</td>\n",
       "      <td>5.00</td>\n",
       "    </tr>\n",
       "  </tbody>\n",
       "</table>\n",
       "</div>"
      ],
      "text/plain": [
       "       user_uuid  coach_id  challenge_id  class_id   stars\n",
       "count     999.00    999.00        999.00    999.00  999.00\n",
       "mean      120.66    111.20          1.50   4171.79    3.02\n",
       "std        71.17      6.55          1.12   1878.22    1.42\n",
       "min         1.00    100.00          0.00    211.00    1.00\n",
       "25%        58.50    106.00          1.00   3149.00    2.00\n",
       "50%       118.00    111.00          1.00   4220.00    3.00\n",
       "75%       182.00    117.00          3.00   6215.00    4.00\n",
       "max       245.00    122.00          3.00   6399.00    5.00"
      ]
     },
     "execution_count": 53,
     "metadata": {},
     "output_type": "execute_result"
    }
   ],
   "source": [
    "df.describe().round(2)"
   ]
  },
  {
   "cell_type": "code",
   "execution_count": 54,
   "metadata": {},
   "outputs": [
    {
     "data": {
      "text/plain": [
       "class_date           554\n",
       "user_uuid            240\n",
       "category               4\n",
       "coach_id              23\n",
       "language               3\n",
       "level                  3\n",
       "challenge_id           4\n",
       "country                3\n",
       "subscription_date    219\n",
       "platform               3\n",
       "class_id             636\n",
       "stars                  5\n",
       "dtype: int64"
      ]
     },
     "execution_count": 54,
     "metadata": {},
     "output_type": "execute_result"
    }
   ],
   "source": [
    "df.nunique()"
   ]
  },
  {
   "cell_type": "markdown",
   "metadata": {},
   "source": [
    "- La colonna 'class_date'  mostra una significativa varietà di date, indicando che il dataset copre un ampio arco temporale e che gli utenti sono attivi per quanto riguarda il periodo analizzato.\n",
    "- Ci sono 240 utenti unici, ma considerando che ci sono 999 record, molti utenti hanno partecipato a più di una classe.\n",
    "- Con 4 categorie di classi, 23 coach diversi e 636 ID di classe unici, il dataset riflette una vasta gamma di offerte di classi.\n",
    "- La presenza di 3 lingue e 3 livelli di difficoltà suggerisce una certa varietà nell'offerta delle classi per coprire diverse esigenze.\n",
    "- La presenza di utenti da 3 paesi diversi indica un pubblico internazionale.\n",
    "- L'esistenza di 3 diverse piattaforme mostra i modi in cui gli utenti partecipano alle classi.\n",
    "- La varietà nelle valutazioni (5 valori unici) offre la possibilità di capire come vengono percepite le classi dagli utenti.\n",
    "\n"
   ]
  },
  {
   "cell_type": "markdown",
   "metadata": {},
   "source": [
    "prepariamo la time series ed andiamo ad analizzare nello specifico l'anno 2021"
   ]
  },
  {
   "cell_type": "code",
   "execution_count": 55,
   "metadata": {},
   "outputs": [],
   "source": [
    "df['class_date'] = pd.to_datetime(df['class_date'], format= '%d-%m-%Y')\n",
    "\n",
    "df_2021 = df[df['class_date'].dt.year == 2021].copy()"
   ]
  },
  {
   "cell_type": "code",
   "execution_count": 56,
   "metadata": {},
   "outputs": [],
   "source": [
    "\n",
    "\n",
    "#df_2021['month'] = df_2021['class_date'].dt.month_name()\n",
    "\n"
   ]
  },
  {
   "cell_type": "code",
   "execution_count": 57,
   "metadata": {},
   "outputs": [
    {
     "data": {
      "text/html": [
       "<div>\n",
       "<style scoped>\n",
       "    .dataframe tbody tr th:only-of-type {\n",
       "        vertical-align: middle;\n",
       "    }\n",
       "\n",
       "    .dataframe tbody tr th {\n",
       "        vertical-align: top;\n",
       "    }\n",
       "\n",
       "    .dataframe thead th {\n",
       "        text-align: right;\n",
       "    }\n",
       "</style>\n",
       "<table border=\"1\" class=\"dataframe\">\n",
       "  <thead>\n",
       "    <tr style=\"text-align: right;\">\n",
       "      <th></th>\n",
       "      <th>user_uuid</th>\n",
       "      <th>category</th>\n",
       "      <th>coach_id</th>\n",
       "      <th>language</th>\n",
       "      <th>level</th>\n",
       "      <th>challenge_id</th>\n",
       "      <th>country</th>\n",
       "      <th>subscription_date</th>\n",
       "      <th>platform</th>\n",
       "      <th>class_id</th>\n",
       "      <th>stars</th>\n",
       "    </tr>\n",
       "    <tr>\n",
       "      <th>class_date</th>\n",
       "      <th></th>\n",
       "      <th></th>\n",
       "      <th></th>\n",
       "      <th></th>\n",
       "      <th></th>\n",
       "      <th></th>\n",
       "      <th></th>\n",
       "      <th></th>\n",
       "      <th></th>\n",
       "      <th></th>\n",
       "      <th></th>\n",
       "    </tr>\n",
       "  </thead>\n",
       "  <tbody>\n",
       "    <tr>\n",
       "      <th>2021-05-23</th>\n",
       "      <td>103</td>\n",
       "      <td>meditation</td>\n",
       "      <td>111</td>\n",
       "      <td>fr</td>\n",
       "      <td>basic</td>\n",
       "      <td>1</td>\n",
       "      <td>fr</td>\n",
       "      <td>25-3-2020</td>\n",
       "      <td>tv</td>\n",
       "      <td>2194</td>\n",
       "      <td>3</td>\n",
       "    </tr>\n",
       "    <tr>\n",
       "      <th>2021-10-24</th>\n",
       "      <td>103</td>\n",
       "      <td>power yoga</td>\n",
       "      <td>110</td>\n",
       "      <td>fr</td>\n",
       "      <td>basic</td>\n",
       "      <td>0</td>\n",
       "      <td>fr</td>\n",
       "      <td>25-3-2020</td>\n",
       "      <td>pc</td>\n",
       "      <td>6139</td>\n",
       "      <td>1</td>\n",
       "    </tr>\n",
       "    <tr>\n",
       "      <th>2021-06-17</th>\n",
       "      <td>225</td>\n",
       "      <td>vinyasa</td>\n",
       "      <td>104</td>\n",
       "      <td>it</td>\n",
       "      <td>intermediate</td>\n",
       "      <td>1</td>\n",
       "      <td>it</td>\n",
       "      <td>25-12-2020</td>\n",
       "      <td>mobile</td>\n",
       "      <td>4324</td>\n",
       "      <td>5</td>\n",
       "    </tr>\n",
       "    <tr>\n",
       "      <th>2021-07-07</th>\n",
       "      <td>157</td>\n",
       "      <td>hatha</td>\n",
       "      <td>105</td>\n",
       "      <td>it</td>\n",
       "      <td>advanced</td>\n",
       "      <td>2</td>\n",
       "      <td>it</td>\n",
       "      <td>12-2-2020</td>\n",
       "      <td>tv</td>\n",
       "      <td>3283</td>\n",
       "      <td>2</td>\n",
       "    </tr>\n",
       "    <tr>\n",
       "      <th>2021-07-16</th>\n",
       "      <td>3</td>\n",
       "      <td>power yoga</td>\n",
       "      <td>115</td>\n",
       "      <td>it</td>\n",
       "      <td>basic</td>\n",
       "      <td>2</td>\n",
       "      <td>it</td>\n",
       "      <td>22-7-2020</td>\n",
       "      <td>mobile</td>\n",
       "      <td>6173</td>\n",
       "      <td>4</td>\n",
       "    </tr>\n",
       "    <tr>\n",
       "      <th>...</th>\n",
       "      <td>...</td>\n",
       "      <td>...</td>\n",
       "      <td>...</td>\n",
       "      <td>...</td>\n",
       "      <td>...</td>\n",
       "      <td>...</td>\n",
       "      <td>...</td>\n",
       "      <td>...</td>\n",
       "      <td>...</td>\n",
       "      <td>...</td>\n",
       "      <td>...</td>\n",
       "    </tr>\n",
       "    <tr>\n",
       "      <th>2021-08-14</th>\n",
       "      <td>65</td>\n",
       "      <td>hatha</td>\n",
       "      <td>109</td>\n",
       "      <td>en</td>\n",
       "      <td>intermediate</td>\n",
       "      <td>3</td>\n",
       "      <td>uk</td>\n",
       "      <td>4-5-2020</td>\n",
       "      <td>tv</td>\n",
       "      <td>3344</td>\n",
       "      <td>4</td>\n",
       "    </tr>\n",
       "    <tr>\n",
       "      <th>2021-06-02</th>\n",
       "      <td>139</td>\n",
       "      <td>vinyasa</td>\n",
       "      <td>115</td>\n",
       "      <td>fr</td>\n",
       "      <td>basic</td>\n",
       "      <td>3</td>\n",
       "      <td>fr</td>\n",
       "      <td>28-3-2020</td>\n",
       "      <td>tv</td>\n",
       "      <td>4199</td>\n",
       "      <td>5</td>\n",
       "    </tr>\n",
       "    <tr>\n",
       "      <th>2021-11-04</th>\n",
       "      <td>145</td>\n",
       "      <td>vinyasa</td>\n",
       "      <td>100</td>\n",
       "      <td>it</td>\n",
       "      <td>basic</td>\n",
       "      <td>0</td>\n",
       "      <td>it</td>\n",
       "      <td>13-1-2020</td>\n",
       "      <td>tv</td>\n",
       "      <td>4190</td>\n",
       "      <td>4</td>\n",
       "    </tr>\n",
       "    <tr>\n",
       "      <th>2021-09-13</th>\n",
       "      <td>11</td>\n",
       "      <td>meditation</td>\n",
       "      <td>122</td>\n",
       "      <td>it</td>\n",
       "      <td>intermediate</td>\n",
       "      <td>0</td>\n",
       "      <td>it</td>\n",
       "      <td>23-11-2020</td>\n",
       "      <td>mobile</td>\n",
       "      <td>2339</td>\n",
       "      <td>4</td>\n",
       "    </tr>\n",
       "    <tr>\n",
       "      <th>2021-02-02</th>\n",
       "      <td>182</td>\n",
       "      <td>power yoga</td>\n",
       "      <td>118</td>\n",
       "      <td>en</td>\n",
       "      <td>basic</td>\n",
       "      <td>3</td>\n",
       "      <td>uk</td>\n",
       "      <td>14-3-2020</td>\n",
       "      <td>mobile</td>\n",
       "      <td>6110</td>\n",
       "      <td>5</td>\n",
       "    </tr>\n",
       "  </tbody>\n",
       "</table>\n",
       "<p>90 rows × 11 columns</p>\n",
       "</div>"
      ],
      "text/plain": [
       "            user_uuid    category  coach_id language         level  \\\n",
       "class_date                                                           \n",
       "2021-05-23        103  meditation       111       fr         basic   \n",
       "2021-10-24        103  power yoga       110       fr         basic   \n",
       "2021-06-17        225     vinyasa       104       it  intermediate   \n",
       "2021-07-07        157       hatha       105       it      advanced   \n",
       "2021-07-16          3  power yoga       115       it         basic   \n",
       "...               ...         ...       ...      ...           ...   \n",
       "2021-08-14         65       hatha       109       en  intermediate   \n",
       "2021-06-02        139     vinyasa       115       fr         basic   \n",
       "2021-11-04        145     vinyasa       100       it         basic   \n",
       "2021-09-13         11  meditation       122       it  intermediate   \n",
       "2021-02-02        182  power yoga       118       en         basic   \n",
       "\n",
       "            challenge_id country subscription_date platform  class_id  stars  \n",
       "class_date                                                                    \n",
       "2021-05-23             1      fr         25-3-2020       tv      2194      3  \n",
       "2021-10-24             0      fr         25-3-2020       pc      6139      1  \n",
       "2021-06-17             1      it        25-12-2020   mobile      4324      5  \n",
       "2021-07-07             2      it         12-2-2020       tv      3283      2  \n",
       "2021-07-16             2      it         22-7-2020   mobile      6173      4  \n",
       "...                  ...     ...               ...      ...       ...    ...  \n",
       "2021-08-14             3      uk          4-5-2020       tv      3344      4  \n",
       "2021-06-02             3      fr         28-3-2020       tv      4199      5  \n",
       "2021-11-04             0      it         13-1-2020       tv      4190      4  \n",
       "2021-09-13             0      it        23-11-2020   mobile      2339      4  \n",
       "2021-02-02             3      uk         14-3-2020   mobile      6110      5  \n",
       "\n",
       "[90 rows x 11 columns]"
      ]
     },
     "execution_count": 57,
     "metadata": {},
     "output_type": "execute_result"
    }
   ],
   "source": [
    "timeser_2021 =(df_2021).copy()\n",
    "\n",
    "timeser_2021.set_index('class_date',inplace=True)"
   ]
  },
  {
   "cell_type": "code",
   "execution_count": 58,
   "metadata": {},
   "outputs": [
    {
     "data": {
      "text/html": [
       "<div>\n",
       "<style scoped>\n",
       "    .dataframe tbody tr th:only-of-type {\n",
       "        vertical-align: middle;\n",
       "    }\n",
       "\n",
       "    .dataframe tbody tr th {\n",
       "        vertical-align: top;\n",
       "    }\n",
       "\n",
       "    .dataframe thead th {\n",
       "        text-align: right;\n",
       "    }\n",
       "</style>\n",
       "<table border=\"1\" class=\"dataframe\">\n",
       "  <thead>\n",
       "    <tr style=\"text-align: right;\">\n",
       "      <th></th>\n",
       "      <th>user_uuid</th>\n",
       "      <th>category</th>\n",
       "      <th>coach_id</th>\n",
       "      <th>language</th>\n",
       "      <th>level</th>\n",
       "      <th>challenge_id</th>\n",
       "      <th>country</th>\n",
       "      <th>subscription_date</th>\n",
       "      <th>platform</th>\n",
       "      <th>class_id</th>\n",
       "      <th>stars</th>\n",
       "    </tr>\n",
       "    <tr>\n",
       "      <th>class_date</th>\n",
       "      <th></th>\n",
       "      <th></th>\n",
       "      <th></th>\n",
       "      <th></th>\n",
       "      <th></th>\n",
       "      <th></th>\n",
       "      <th></th>\n",
       "      <th></th>\n",
       "      <th></th>\n",
       "      <th></th>\n",
       "      <th></th>\n",
       "    </tr>\n",
       "  </thead>\n",
       "  <tbody>\n",
       "    <tr>\n",
       "      <th>January</th>\n",
       "      <td>2</td>\n",
       "      <td>2</td>\n",
       "      <td>2</td>\n",
       "      <td>2</td>\n",
       "      <td>2</td>\n",
       "      <td>2</td>\n",
       "      <td>2</td>\n",
       "      <td>2</td>\n",
       "      <td>2</td>\n",
       "      <td>2</td>\n",
       "      <td>2</td>\n",
       "    </tr>\n",
       "    <tr>\n",
       "      <th>February</th>\n",
       "      <td>5</td>\n",
       "      <td>5</td>\n",
       "      <td>5</td>\n",
       "      <td>5</td>\n",
       "      <td>5</td>\n",
       "      <td>5</td>\n",
       "      <td>5</td>\n",
       "      <td>5</td>\n",
       "      <td>5</td>\n",
       "      <td>5</td>\n",
       "      <td>5</td>\n",
       "    </tr>\n",
       "    <tr>\n",
       "      <th>March</th>\n",
       "      <td>6</td>\n",
       "      <td>6</td>\n",
       "      <td>6</td>\n",
       "      <td>6</td>\n",
       "      <td>6</td>\n",
       "      <td>6</td>\n",
       "      <td>6</td>\n",
       "      <td>6</td>\n",
       "      <td>6</td>\n",
       "      <td>6</td>\n",
       "      <td>6</td>\n",
       "    </tr>\n",
       "    <tr>\n",
       "      <th>April</th>\n",
       "      <td>4</td>\n",
       "      <td>4</td>\n",
       "      <td>4</td>\n",
       "      <td>4</td>\n",
       "      <td>4</td>\n",
       "      <td>4</td>\n",
       "      <td>4</td>\n",
       "      <td>4</td>\n",
       "      <td>4</td>\n",
       "      <td>4</td>\n",
       "      <td>4</td>\n",
       "    </tr>\n",
       "    <tr>\n",
       "      <th>May</th>\n",
       "      <td>7</td>\n",
       "      <td>7</td>\n",
       "      <td>7</td>\n",
       "      <td>7</td>\n",
       "      <td>7</td>\n",
       "      <td>7</td>\n",
       "      <td>7</td>\n",
       "      <td>7</td>\n",
       "      <td>7</td>\n",
       "      <td>7</td>\n",
       "      <td>7</td>\n",
       "    </tr>\n",
       "    <tr>\n",
       "      <th>June</th>\n",
       "      <td>10</td>\n",
       "      <td>10</td>\n",
       "      <td>10</td>\n",
       "      <td>10</td>\n",
       "      <td>10</td>\n",
       "      <td>10</td>\n",
       "      <td>10</td>\n",
       "      <td>10</td>\n",
       "      <td>10</td>\n",
       "      <td>10</td>\n",
       "      <td>10</td>\n",
       "    </tr>\n",
       "    <tr>\n",
       "      <th>July</th>\n",
       "      <td>14</td>\n",
       "      <td>14</td>\n",
       "      <td>14</td>\n",
       "      <td>14</td>\n",
       "      <td>14</td>\n",
       "      <td>14</td>\n",
       "      <td>14</td>\n",
       "      <td>14</td>\n",
       "      <td>14</td>\n",
       "      <td>14</td>\n",
       "      <td>14</td>\n",
       "    </tr>\n",
       "    <tr>\n",
       "      <th>August</th>\n",
       "      <td>9</td>\n",
       "      <td>9</td>\n",
       "      <td>9</td>\n",
       "      <td>9</td>\n",
       "      <td>9</td>\n",
       "      <td>9</td>\n",
       "      <td>9</td>\n",
       "      <td>9</td>\n",
       "      <td>9</td>\n",
       "      <td>9</td>\n",
       "      <td>9</td>\n",
       "    </tr>\n",
       "    <tr>\n",
       "      <th>September</th>\n",
       "      <td>14</td>\n",
       "      <td>14</td>\n",
       "      <td>14</td>\n",
       "      <td>14</td>\n",
       "      <td>14</td>\n",
       "      <td>14</td>\n",
       "      <td>14</td>\n",
       "      <td>14</td>\n",
       "      <td>14</td>\n",
       "      <td>14</td>\n",
       "      <td>14</td>\n",
       "    </tr>\n",
       "    <tr>\n",
       "      <th>October</th>\n",
       "      <td>7</td>\n",
       "      <td>7</td>\n",
       "      <td>7</td>\n",
       "      <td>7</td>\n",
       "      <td>7</td>\n",
       "      <td>7</td>\n",
       "      <td>7</td>\n",
       "      <td>7</td>\n",
       "      <td>7</td>\n",
       "      <td>7</td>\n",
       "      <td>7</td>\n",
       "    </tr>\n",
       "    <tr>\n",
       "      <th>November</th>\n",
       "      <td>7</td>\n",
       "      <td>7</td>\n",
       "      <td>7</td>\n",
       "      <td>7</td>\n",
       "      <td>7</td>\n",
       "      <td>7</td>\n",
       "      <td>7</td>\n",
       "      <td>7</td>\n",
       "      <td>7</td>\n",
       "      <td>7</td>\n",
       "      <td>7</td>\n",
       "    </tr>\n",
       "    <tr>\n",
       "      <th>December</th>\n",
       "      <td>5</td>\n",
       "      <td>5</td>\n",
       "      <td>5</td>\n",
       "      <td>5</td>\n",
       "      <td>5</td>\n",
       "      <td>5</td>\n",
       "      <td>5</td>\n",
       "      <td>5</td>\n",
       "      <td>5</td>\n",
       "      <td>5</td>\n",
       "      <td>5</td>\n",
       "    </tr>\n",
       "  </tbody>\n",
       "</table>\n",
       "</div>"
      ],
      "text/plain": [
       "            user_uuid  category  coach_id  language  level  challenge_id  \\\n",
       "class_date                                                                 \n",
       "January             2         2         2         2      2             2   \n",
       "February            5         5         5         5      5             5   \n",
       "March               6         6         6         6      6             6   \n",
       "April               4         4         4         4      4             4   \n",
       "May                 7         7         7         7      7             7   \n",
       "June               10        10        10        10     10            10   \n",
       "July               14        14        14        14     14            14   \n",
       "August              9         9         9         9      9             9   \n",
       "September          14        14        14        14     14            14   \n",
       "October             7         7         7         7      7             7   \n",
       "November            7         7         7         7      7             7   \n",
       "December            5         5         5         5      5             5   \n",
       "\n",
       "            country  subscription_date  platform  class_id  stars  \n",
       "class_date                                                         \n",
       "January           2                  2         2         2      2  \n",
       "February          5                  5         5         5      5  \n",
       "March             6                  6         6         6      6  \n",
       "April             4                  4         4         4      4  \n",
       "May               7                  7         7         7      7  \n",
       "June             10                 10        10        10     10  \n",
       "July             14                 14        14        14     14  \n",
       "August            9                  9         9         9      9  \n",
       "September        14                 14        14        14     14  \n",
       "October           7                  7         7         7      7  \n",
       "November          7                  7         7         7      7  \n",
       "December          5                  5         5         5      5  "
      ]
     },
     "execution_count": 58,
     "metadata": {},
     "output_type": "execute_result"
    }
   ],
   "source": [
    "mediaDfQuart_2021 = timeser_2021.resample('M').count()\n",
    "mediaDfQuart_2021.index = mediaDfQuart_2021.index.month_name()"
   ]
  },
  {
   "cell_type": "code",
   "execution_count": 84,
   "metadata": {},
   "outputs": [
    {
     "data": {
      "image/png": "[encoded data removed]",
      "text/plain": [
       "<Figure size 1500x600 with 1 Axes>"
      ]
     },
     "metadata": {},
     "output_type": "display_data"
    }
   ],
   "source": [
    "#Serie Temporale sugli abbonati\n",
    "plt.figure(figsize=(15,6))\n",
    "plt.plot(mediaDfQuart_2021.index,mediaDfQuart_2021['subscription_date'])\n",
    "plt.title(\"Andamento degli iscritti per l'anno 2021\", fontsize = 13,fontweight = '900', color = 'black')\n",
    "plt.xticks(mediaDfQuart_2021.index,rotation = 45)\n",
    "plt.show()"
   ]
  },
  {
   "cell_type": "code",
   "execution_count": 83,
   "metadata": {},
   "outputs": [
    {
     "data": {
      "image/png": "[encoded data removed]",
      "text/plain": [
       "<Figure size 640x480 with 1 Axes>"
      ]
     },
     "metadata": {},
     "output_type": "display_data"
    }
   ],
   "source": [
    "\n",
    "plt.boxplot(data=df_2021, x= 'stars', patch_artist= True,boxprops= {'facecolor' : 'skyblue'})\n",
    "plt.title('Distribuzione delle valutazioni',fontsize = 13, fontweight = '900', color = 'black')\n",
    "plt.grid()\n",
    "plt.show()"
   ]
  },
  {
   "cell_type": "code",
   "execution_count": 61,
   "metadata": {},
   "outputs": [
    {
     "data": {
      "image/png": "[encoded data removed]",
      "text/plain": [
       "<Figure size 800x400 with 1 Axes>"
      ]
     },
     "metadata": {},
     "output_type": "display_data"
    }
   ],
   "source": [
    "stars_order = df_2021['stars'].value_counts().index\n",
    "\n",
    "plt.figure(figsize=(8,4))\n",
    "sns.countplot(data=df_2021, x= 'stars',order= stars_order)\n",
    "plt.title('Classifica delle valutazioni', fontsize = 13, fontweight = '900', color = 'black')\n",
    "plt.show()"
   ]
  },
  {
   "cell_type": "code",
   "execution_count": 62,
   "metadata": {},
   "outputs": [
    {
     "data": {
      "image/png": "[encoded data removed]",
      "text/plain": [
       "<Figure size 600x400 with 1 Axes>"
      ]
     },
     "metadata": {},
     "output_type": "display_data"
    }
   ],
   "source": [
    "order_plat = df_2021['platform'].value_counts().index\n",
    "#Classifica sull'uso delle piattaforme\n",
    "plt.figure(figsize=(6,4))\n",
    "sns.countplot(data=df_2021, x='platform', order= order_plat)\n",
    "plt.title('Popolarità delle piattaforme nel 2021',fontsize = 13, fontweight = '900', color = 'black')\n",
    "plt.show()"
   ]
  },
  {
   "cell_type": "code",
   "execution_count": 63,
   "metadata": {},
   "outputs": [
    {
     "data": {
      "image/png": "[encoded data removed]",
      "text/plain": [
       "<Figure size 600x400 with 1 Axes>"
      ]
     },
     "metadata": {},
     "output_type": "display_data"
    }
   ],
   "source": [
    "order_cat = df_2021['category'].value_counts().index\n",
    "#Classifca categorie \n",
    "\n",
    "plt.figure(figsize=(6,4))\n",
    "sns.countplot(data=df_2021, x='category', order= order_cat)\n",
    "plt.title('Popolarità Categorie nel 2021',fontsize = 13, fontweight = '900', color = 'black')\n",
    "plt.show()"
   ]
  },
  {
   "cell_type": "code",
   "execution_count": 64,
   "metadata": {},
   "outputs": [
    {
     "data": {
      "image/png": "[encoded data removed]",
      "text/plain": [
       "<Figure size 600x400 with 1 Axes>"
      ]
     },
     "metadata": {},
     "output_type": "display_data"
    }
   ],
   "source": [
    "lang_order = df_2021['language'].value_counts().index\n",
    "\n",
    "plt.figure(figsize=(6,4))\n",
    "sns.countplot(data=df_2021, x = 'language',order = lang_order)\n",
    "plt.title('Popolarità delle lingue nel 2021',fontsize = 13, fontweight = '900', color = 'black')\n",
    "plt.show()"
   ]
  },
  {
   "cell_type": "code",
   "execution_count": 65,
   "metadata": {},
   "outputs": [
    {
     "data": {
      "image/png": "[encoded data removed]",
      "text/plain": [
       "<Figure size 1000x600 with 1 Axes>"
      ]
     },
     "metadata": {},
     "output_type": "display_data"
    }
   ],
   "source": [
    "order_coach = df_2021['coach_id'].value_counts()\n",
    "\n",
    "top_10_coach = order_coach.head(10).index\n",
    "\n",
    "plt.figure(figsize=(10,6))\n",
    "sns.countplot(data=df_2021,x='coach_id',order=top_10_coach)\n",
    "plt.title('Conteggio delle classi per ogni coach',fontsize = 13, fontweight = '900', color = 'black')\n",
    "plt.show()"
   ]
  },
  {
   "cell_type": "code",
   "execution_count": 66,
   "metadata": {},
   "outputs": [
    {
     "data": {
      "image/png": "[encoded data removed]",
      "text/plain": [
       "<Figure size 600x400 with 1 Axes>"
      ]
     },
     "metadata": {},
     "output_type": "display_data"
    }
   ],
   "source": [
    "order_chall = df_2021['challenge_id'].value_counts().index\n",
    "\n",
    "plt.figure(figsize=(6,4))\n",
    "sns.countplot(data=df_2021,x='challenge_id', order = order_chall)\n",
    "plt.title('Popolarità delle challenge',fontsize = 13, fontweight = '900', color = 'black')\n",
    "plt.show()"
   ]
  },
  {
   "cell_type": "code",
   "execution_count": 67,
   "metadata": {},
   "outputs": [
    {
     "name": "stdout",
     "output_type": "stream",
     "text": [
      "N. Utenti nel 2021: 55\n",
      "N. Coach nel 2021: 22\n",
      "N. di classi nel 2021: 86\n",
      "N. giorni con accessi all'app: 77\n",
      "N. di classi fatte nel 2021: 90\n",
      "Punteggio medio 'Stars' : 3.04\n"
     ]
    }
   ],
   "source": [
    "usr_count = df_2021['user_uuid'].nunique()\n",
    "coac_count= df_2021['coach_id'].nunique()\n",
    "clas_count= df_2021['class_id'].nunique()\n",
    "Class_date_uniq = df_2021['class_date'].nunique()\n",
    "class_date_count = df_2021['class_date'].count()\n",
    "avg_stars_score = df_2021['stars'].mean().__round__(2)\n",
    "\n",
    "stats = {\n",
    "    \"N. Utenti nel 2021\": usr_count,\n",
    "    \"N. Coach nel 2021\": coac_count,\n",
    "    'N. di classi nel 2021': clas_count,\n",
    "    \"N. giorni con accessi all'app\": Class_date_uniq,\n",
    "    \"N. di classi fatte nel 2021\": class_date_count,\n",
    "    \"Punteggio medio 'Stars' \" : avg_stars_score\n",
    "}\n",
    "\n",
    "# Ciclo for per stampare le informazioni\n",
    "for descrizione, valore in stats.items():\n",
    "    print(f\"{descrizione}: {valore}\") "
   ]
  },
  {
   "cell_type": "code",
   "execution_count": 69,
   "metadata": {},
   "outputs": [
    {
     "name": "stdout",
     "output_type": "stream",
     "text": [
      "ranking\n",
      "    month  N. of class made\n",
      "     July                14\n",
      "September                14\n",
      "     June                10\n"
     ]
    }
   ],
   "source": [
    "df_2021['month'] = df_2021['class_date'].dt.month_name()\n",
    "\n",
    "top_3_month = df_2021['month'].value_counts().head(3)\n",
    "\n",
    "result_t = top_3_month.reset_index()\n",
    "\n",
    "result_t.columns = ['month','N. of class made']\n",
    "\n",
    "print('ranking')\n",
    "print(result_t.to_string(index=False))"
   ]
  },
  {
   "cell_type": "code",
   "execution_count": 70,
   "metadata": {},
   "outputs": [
    {
     "name": "stdout",
     "output_type": "stream",
     "text": [
      "Country\n",
      "country  N. Utenti per country\n",
      "     it                     36\n",
      "     fr                     27\n",
      "     uk                     27\n"
     ]
    }
   ],
   "source": [
    "result_country = df_2021['country'].value_counts().reset_index()\n",
    "\n",
    "result_country.columns = ['country','N. Utenti per country']\n",
    "\n",
    "print('Country')\n",
    "print(result_country.to_string(index=False))"
   ]
  },
  {
   "cell_type": "code",
   "execution_count": 71,
   "metadata": {},
   "outputs": [
    {
     "name": "stdout",
     "output_type": "stream",
     "text": [
      "ranking\n",
      "  category  ID class  number of classes\n",
      "power yoga      6215                  6\n",
      "power yoga      6283                  6\n",
      "power yoga      6263                  5\n",
      "     hatha      3251                  5\n",
      "power yoga      6237                  5\n"
     ]
    }
   ],
   "source": [
    "top_class = df.groupby(['category','class_id'])['class_date'].count().reset_index()\n",
    "\n",
    "top_class.columns = ['category', 'ID class', 'number of classes']\n",
    "\n",
    "top_class = top_class.sort_values(by='number of classes',ascending=False).head(5)\n",
    "\n",
    "print('ranking')\n",
    "print(top_class.to_string(index=False))"
   ]
  },
  {
   "cell_type": "code",
   "execution_count": 72,
   "metadata": {},
   "outputs": [
    {
     "data": {
      "image/png": "[encoded data removed]",
      "text/plain": [
       "<Figure size 640x480 with 1 Axes>"
      ]
     },
     "metadata": {},
     "output_type": "display_data"
    }
   ],
   "source": [
    "top_user = df_2021.groupby('user_uuid')['class_date'].count().reset_index()\n",
    "top_user.columns = ['ID_user','N. di Classi fatte']\n",
    "\n",
    "top_user = top_user.sort_values(by='N. di Classi fatte',ascending=False).head(5)\n",
    "\n",
    "sns.barplot(data=top_user,x='ID_user',y='N. di Classi fatte', order=top_user['ID_user'])\n",
    "plt.title('Classifica degli user più attivi in piattaforma',fontsize = 13, fontweight = '900', color = 'black')\n",
    "plt.show()\n",
    "#valutare se togliere"
   ]
  },
  {
   "cell_type": "code",
   "execution_count": 73,
   "metadata": {},
   "outputs": [
    {
     "data": {
      "text/plain": [
       "category\n",
       "meditation    3.57\n",
       "power yoga    3.12\n",
       "vinyasa       3.00\n",
       "hatha         2.60\n",
       "Name: stars, dtype: float64"
      ]
     },
     "execution_count": 73,
     "metadata": {},
     "output_type": "execute_result"
    }
   ],
   "source": [
    "df_2021.groupby('category')['stars'].mean().__round__(2).sort_values(ascending=False)"
   ]
  },
  {
   "cell_type": "code",
   "execution_count": 74,
   "metadata": {},
   "outputs": [
    {
     "data": {
      "text/plain": [
       "category\n",
       "power yoga    31\n",
       "vinyasa       21\n",
       "hatha         20\n",
       "meditation    14\n",
       "Name: class_id, dtype: int64"
      ]
     },
     "execution_count": 74,
     "metadata": {},
     "output_type": "execute_result"
    }
   ],
   "source": [
    "df_2021.groupby('category')['class_id'].nunique().sort_values(ascending=False)"
   ]
  },
  {
   "cell_type": "code",
   "execution_count": 75,
   "metadata": {},
   "outputs": [
    {
     "data": {
      "text/plain": [
       "category    platform\n",
       "vinyasa     tv          135\n",
       "            pc           86\n",
       "            mobile       55\n",
       "power yoga  tv          193\n",
       "            pc          132\n",
       "            mobile       71\n",
       "meditation  tv           59\n",
       "            pc           60\n",
       "            mobile       29\n",
       "hatha       tv           79\n",
       "            pc           58\n",
       "            mobile       42\n",
       "Name: count, dtype: int64"
      ]
     },
     "execution_count": 75,
     "metadata": {},
     "output_type": "execute_result"
    }
   ],
   "source": [
    "df.groupby('category')['platform'].value_counts().sort_index(ascending=False)"
   ]
  },
  {
   "cell_type": "code",
   "execution_count": 77,
   "metadata": {},
   "outputs": [
    {
     "data": {
      "text/html": [
       "<div>\n",
       "<style scoped>\n",
       "    .dataframe tbody tr th:only-of-type {\n",
       "        vertical-align: middle;\n",
       "    }\n",
       "\n",
       "    .dataframe tbody tr th {\n",
       "        vertical-align: top;\n",
       "    }\n",
       "\n",
       "    .dataframe thead th {\n",
       "        text-align: right;\n",
       "    }\n",
       "</style>\n",
       "<table border=\"1\" class=\"dataframe\">\n",
       "  <thead>\n",
       "    <tr style=\"text-align: right;\">\n",
       "      <th></th>\n",
       "      <th>class_date</th>\n",
       "      <th>user_uuid</th>\n",
       "      <th>category</th>\n",
       "      <th>coach_id</th>\n",
       "      <th>language</th>\n",
       "      <th>level</th>\n",
       "      <th>challenge_id</th>\n",
       "      <th>country</th>\n",
       "      <th>subscription_date</th>\n",
       "      <th>platform</th>\n",
       "      <th>class_id</th>\n",
       "      <th>stars</th>\n",
       "    </tr>\n",
       "  </thead>\n",
       "  <tbody>\n",
       "    <tr>\n",
       "      <th>0</th>\n",
       "      <td>2023-02-01</td>\n",
       "      <td>2</td>\n",
       "      <td>meditation</td>\n",
       "      <td>102</td>\n",
       "      <td>it</td>\n",
       "      <td>basic</td>\n",
       "      <td>3</td>\n",
       "      <td>it</td>\n",
       "      <td>6-1-2022</td>\n",
       "      <td>tv</td>\n",
       "      <td>2157</td>\n",
       "      <td>1</td>\n",
       "    </tr>\n",
       "    <tr>\n",
       "      <th>1</th>\n",
       "      <td>2023-05-22</td>\n",
       "      <td>241</td>\n",
       "      <td>power yoga</td>\n",
       "      <td>111</td>\n",
       "      <td>it</td>\n",
       "      <td>basic</td>\n",
       "      <td>1</td>\n",
       "      <td>it</td>\n",
       "      <td>11-5-2022</td>\n",
       "      <td>pc</td>\n",
       "      <td>6172</td>\n",
       "      <td>3</td>\n",
       "    </tr>\n",
       "    <tr>\n",
       "      <th>2</th>\n",
       "      <td>2022-08-06</td>\n",
       "      <td>173</td>\n",
       "      <td>power yoga</td>\n",
       "      <td>117</td>\n",
       "      <td>it</td>\n",
       "      <td>advanced</td>\n",
       "      <td>3</td>\n",
       "      <td>it</td>\n",
       "      <td>12-12-2021</td>\n",
       "      <td>pc</td>\n",
       "      <td>6255</td>\n",
       "      <td>2</td>\n",
       "    </tr>\n",
       "    <tr>\n",
       "      <th>3</th>\n",
       "      <td>2023-08-08</td>\n",
       "      <td>217</td>\n",
       "      <td>hatha</td>\n",
       "      <td>100</td>\n",
       "      <td>en</td>\n",
       "      <td>intermediate</td>\n",
       "      <td>3</td>\n",
       "      <td>uk</td>\n",
       "      <td>7-2-2022</td>\n",
       "      <td>tv</td>\n",
       "      <td>3317</td>\n",
       "      <td>4</td>\n",
       "    </tr>\n",
       "    <tr>\n",
       "      <th>4</th>\n",
       "      <td>2022-03-11</td>\n",
       "      <td>230</td>\n",
       "      <td>power yoga</td>\n",
       "      <td>113</td>\n",
       "      <td>fr</td>\n",
       "      <td>basic</td>\n",
       "      <td>2</td>\n",
       "      <td>fr</td>\n",
       "      <td>9-1-2020</td>\n",
       "      <td>pc</td>\n",
       "      <td>6159</td>\n",
       "      <td>1</td>\n",
       "    </tr>\n",
       "  </tbody>\n",
       "</table>\n",
       "</div>"
      ],
      "text/plain": [
       "  class_date  user_uuid    category  coach_id language         level  \\\n",
       "0 2023-02-01          2  meditation       102       it         basic   \n",
       "1 2023-05-22        241  power yoga       111       it         basic   \n",
       "2 2022-08-06        173  power yoga       117       it      advanced   \n",
       "3 2023-08-08        217       hatha       100       en  intermediate   \n",
       "4 2022-03-11        230  power yoga       113       fr         basic   \n",
       "\n",
       "   challenge_id country subscription_date platform  class_id  stars  \n",
       "0             3      it          6-1-2022       tv      2157      1  \n",
       "1             1      it         11-5-2022       pc      6172      3  \n",
       "2             3      it        12-12-2021       pc      6255      2  \n",
       "3             3      uk          7-2-2022       tv      3317      4  \n",
       "4             2      fr          9-1-2020       pc      6159      1  "
      ]
     },
     "execution_count": 77,
     "metadata": {},
     "output_type": "execute_result"
    }
   ],
   "source": [
    "df.head()"
   ]
  },
  {
   "cell_type": "code",
   "execution_count": 90,
   "metadata": {},
   "outputs": [
    {
     "data": {
      "text/plain": [
       "category    level       \n",
       "hatha       advanced         8\n",
       "            basic            9\n",
       "            intermediate     3\n",
       "meditation  advanced         4\n",
       "            basic            6\n",
       "            intermediate     4\n",
       "power yoga  advanced        16\n",
       "            basic           11\n",
       "            intermediate     7\n",
       "vinyasa     advanced         7\n",
       "            basic            9\n",
       "            intermediate     6\n",
       "Name: count, dtype: int64"
      ]
     },
     "execution_count": 90,
     "metadata": {},
     "output_type": "execute_result"
    }
   ],
   "source": [
    "df_2021.groupby('category')['level'].value_counts().sort_index(ascending=True)"
   ]
  },
  {
   "cell_type": "code",
   "execution_count": 79,
   "metadata": {},
   "outputs": [
    {
     "data": {
      "text/plain": [
       "category\n",
       "hatha         20\n",
       "meditation    13\n",
       "power yoga    29\n",
       "vinyasa       20\n",
       "Name: user_uuid, dtype: int64"
      ]
     },
     "execution_count": 79,
     "metadata": {},
     "output_type": "execute_result"
    }
   ],
   "source": [
    "df_2021.groupby('category')['user_uuid'].nunique()"
   ]
  },
  {
   "cell_type": "code",
   "execution_count": 80,
   "metadata": {},
   "outputs": [],
   "source": [
    "df_2021.to_excel('dataset2021.xlsx',index=False)\n",
    "df.to_excel('dataset.xlsx',index=False)"
   ]
  },
  {
   "cell_type": "code",
   "execution_count": null,
   "metadata": {},
   "outputs": [],
   "source": []
  }
 ],
 "metadata": {
  "kernelspec": {
   "display_name": "CondaData",
   "language": "python",
   "name": "python3"
  },
  "language_info": {
   "codemirror_mode": {
    "name": "ipython",
    "version": 3
   },
   "file_extension": ".py",
   "mimetype": "text/x-python",
   "name": "python",
   "nbconvert_exporter": "python",
   "pygments_lexer": "ipython3",
   "version": "3.10.13"
  }
 },
 "nbformat": 4,
 "nbformat_minor": 2
}
