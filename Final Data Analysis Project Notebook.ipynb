{
 "cells": [
  {
   "cell_type": "markdown",
   "metadata": {},
   "source": [
    "This Notebook analyses a dataset provided by a Yoga App.\n",
    "\n",
    "The objectives are to analyse the year 2021 and identify trends, including:\n",
    " -  Most Followed Categories,\n",
    " - Trend of Subscribers,\n",
    " -  Most Active Months,\n",
    " -  Most Popular Classes, \n",
    " -  Category Appreciation \n"
   ]
  },
  {
   "cell_type": "code",
   "execution_count": null,
   "metadata": {},
   "outputs": [],
   "source": [
    "import pandas as pd\n",
    "import numpy as np \n",
    "import matplotlib.pyplot as plt \n",
    "import seaborn as sns \n",
    "\n",
    "\n",
    "%matplotlib inline \n",
    "\n",
    "import warnings\n",
    "warnings.filterwarnings(\"ignore\",category=FutureWarning)\n",
    "warnings.filterwarnings(\"ignore\",message=\"The figure layout has changed to tight\")\n"
   ]
  },
  {
   "cell_type": "code",
   "execution_count": null,
   "metadata": {},
   "outputs": [],
   "source": [
    "df = pd.read_csv('Lifestyle_data Final Project.csv')"
   ]
  },
  {
   "cell_type": "code",
   "execution_count": null,
   "metadata": {},
   "outputs": [],
   "source": [
    "df.head()"
   ]
  },
  {
   "cell_type": "code",
   "execution_count": null,
   "metadata": {},
   "outputs": [],
   "source": [
    "df.shape"
   ]
  },
  {
   "cell_type": "code",
   "execution_count": null,
   "metadata": {},
   "outputs": [],
   "source": [
    "df.info()"
   ]
  },
  {
   "cell_type": "code",
   "execution_count": null,
   "metadata": {},
   "outputs": [],
   "source": [
    "df.describe().round(2)"
   ]
  },
  {
   "cell_type": "code",
   "execution_count": null,
   "metadata": {},
   "outputs": [],
   "source": [
    "df.nunique()"
   ]
  },
  {
   "cell_type": "markdown",
   "metadata": {},
   "source": [
    "- The 'class_date' column indicates that the dataset covers a wide time span and that users are active during the analysed period.\n",
    "- There are 240 unique users, but many participated in more than one class, given that there are 999 records.\n",
    "- The dataset reflects a wide range of class offerings, with 4 class categories, 23 different coaches, and 636 unique class IDs.\n",
    "- The class offerings suggest variety, with 3 languages and 3 difficulty levels available to meet different needs.  \n",
    "- An international audience is indicated by users from 3 different countries.  \n",
    "- Users can participate in classes through 3 different platforms.  \n",
    "- The 5 unique rating values provide insight into how classes are perceived by users.\n",
    "\n"
   ]
  },
  {
   "cell_type": "markdown",
   "metadata": {},
   "source": [
    "Prepare the time series and focus on the year 2021."
   ]
  },
  {
   "cell_type": "code",
   "execution_count": null,
   "metadata": {},
   "outputs": [],
   "source": [
    "df['class_date'] = pd.to_datetime(df['class_date'], format= '%d-%m-%Y')\n",
    "\n",
    "df_2021 = df[df['class_date'].dt.year == 2021].copy()"
   ]
  },
  {
   "cell_type": "code",
   "execution_count": null,
   "metadata": {},
   "outputs": [],
   "source": [
    "order_cat = df_2021['category'].value_counts().index\n",
    "#Classifca categorie \n",
    "\n",
    "plt.figure(figsize=(6,4))\n",
    "sns.countplot(data=df_2021, x='category', order= order_cat)\n",
    "\n",
    "plt.title('Popolarità Categorie nel 2021',fontsize = 13, fontweight = '900', color = 'black')\n",
    "plt.xlabel(\"Categoria di Yoga\",fontsize = 10,fontweight = '900', color = 'black')      \n",
    "plt.ylabel(\"Conteggio\",fontsize = 10,fontweight = '900', color = 'black')      \n",
    "\n",
    "plt.show()"
   ]
  },
  {
   "cell_type": "markdown",
   "metadata": {},
   "source": [
    "The category with the most classes is Power Yoga"
   ]
  },
  {
   "cell_type": "code",
   "execution_count": null,
   "metadata": {},
   "outputs": [],
   "source": [
    "timeser_2021 =(df_2021).copy()\n",
    "\n",
    "timeser_2021.set_index('class_date',inplace=True)"
   ]
  },
  {
   "cell_type": "code",
   "execution_count": null,
   "metadata": {},
   "outputs": [],
   "source": [
    "mediaDfQuart_2021 = timeser_2021.resample('M').count()\n",
    "mediaDfQuart_2021.index = mediaDfQuart_2021.index.month_name()"
   ]
  },
  {
   "cell_type": "code",
   "execution_count": null,
   "metadata": {},
   "outputs": [],
   "source": [
    "#Serie Temporale sugli abbonati\n",
    "plt.figure(figsize=(15,6))\n",
    "plt.plot(mediaDfQuart_2021.index,mediaDfQuart_2021['subscription_date'])\n",
    "\n",
    "plt.title(\"Andamento degli iscritti per l'anno 2021\", fontsize = 13,fontweight = '900', color = 'black')\n",
    "plt.xlabel(\"Mesi dell'anno\",fontsize = 10,fontweight = '900', color = 'black')      \n",
    "plt.ylabel(\"Iscritti\",fontsize = 10,fontweight = '900', color = 'black')      \n",
    "plt.xticks(mediaDfQuart_2021.index,rotation = 45)\n",
    "\n",
    "plt.show()"
   ]
  },
  {
   "cell_type": "markdown",
   "metadata": {},
   "source": [
    "For most of the year under review, the graph shows an increase in write-offs."
   ]
  },
  {
   "cell_type": "code",
   "execution_count": null,
   "metadata": {},
   "outputs": [],
   "source": [
    "df_2021['month'] = df_2021['class_date'].dt.month_name()\n",
    "\n",
    "top_3_month = df_2021['month'].value_counts().head(3)\n",
    "\n",
    "result_t = top_3_month.reset_index()\n",
    "\n",
    "result_t.columns = ['month','N. of class made']\n",
    "\n",
    "print('Most active month')\n",
    "print(result_t.to_string(index=False))"
   ]
  },
  {
   "cell_type": "markdown",
   "metadata": {},
   "source": [
    "The summer months are the busiest, people probably have more time and want to get out and about when the weather is nice, perhaps soaking up the evening sun."
   ]
  },
  {
   "cell_type": "code",
   "execution_count": null,
   "metadata": {},
   "outputs": [],
   "source": [
    "top_class = df.groupby(['category','class_id'])['class_date'].count().reset_index()\n",
    "\n",
    "top_class.columns = ['category', 'ID class', 'number of classes']\n",
    "\n",
    "top_class = top_class.sort_values(by='number of classes',ascending=False).head(5)\n",
    "\n",
    "print('Most popular classes')\n",
    "print(top_class.to_string(index=False))"
   ]
  },
  {
   "cell_type": "code",
   "execution_count": null,
   "metadata": {},
   "outputs": [],
   "source": [
    "Cat_mean_2021 = df_2021.groupby('category')['stars'].mean().__round__(2).sort_values(ascending=False).reset_index()\n",
    "Cat_mean_2021"
   ]
  },
  {
   "cell_type": "code",
   "execution_count": null,
   "metadata": {},
   "outputs": [],
   "source": [
    "plt.figure(figsize=(6,4))\n",
    "sns.barplot(data=Cat_mean_2021, x='category',y='stars')\n",
    "\n",
    "plt.title('Categorie più apprezzate nel 2021',fontsize = 13, fontweight = '900', color = 'black')\n",
    "plt.xlabel(\"Categoria di Yoga\",fontsize = 10,fontweight = '900', color = 'black')      \n",
    "plt.ylabel(\"Media Stars\",fontsize = 10,fontweight = '900', color = 'black')      \n",
    "\n",
    "plt.show()"
   ]
  },
  {
   "cell_type": "code",
   "execution_count": null,
   "metadata": {},
   "outputs": [],
   "source": [
    "\n",
    "plt.boxplot(data=df_2021, x= 'stars', patch_artist= True,boxprops= {'facecolor' : 'skyblue'})\n",
    "plt.title('Distribuzione delle valutazioni',fontsize = 13, fontweight = '900', color = 'black')\n",
    "plt.grid()\n",
    "plt.show()"
   ]
  },
  {
   "cell_type": "markdown",
   "metadata": {},
   "source": [
    "There are no outliers and the distribution of ratings is very homogeneous."
   ]
  },
  {
   "cell_type": "code",
   "execution_count": null,
   "metadata": {},
   "outputs": [],
   "source": [
    "stars_order = df_2021['stars'].value_counts().index\n",
    "\n",
    "plt.figure(figsize=(8,4))\n",
    "sns.countplot(data=df_2021, x= 'stars',order= stars_order)\n",
    "plt.title('Classifica delle valutazioni', fontsize = 13, fontweight = '900', color = 'black')\n",
    "plt.xlabel('Stelle di valutazione',fontsize = 10,fontweight = '900', color = 'black')      \n",
    "plt.ylabel('Conteggio',fontsize = 10,fontweight = '900', color = 'black')      \n",
    "\n",
    "plt.show()"
   ]
  },
  {
   "cell_type": "markdown",
   "metadata": {},
   "source": [
    "We can see that the majority of the classes have a 4 star rating, which means that the classes in the app are highly rated."
   ]
  },
  {
   "cell_type": "code",
   "execution_count": null,
   "metadata": {},
   "outputs": [],
   "source": [
    "order_plat = df_2021['platform'].value_counts().index\n",
    "#Classifica sull'uso delle piattaforme\n",
    "plt.figure(figsize=(6,4))\n",
    "sns.countplot(data=df_2021, x='platform', order= order_plat)\n",
    "\n",
    "plt.title('Popolarità delle piattaforme nel 2021',fontsize = 13, fontweight = '900', color = 'black')\n",
    "plt.xlabel(\"Piattaforma\",fontsize = 10,fontweight = '900', color = 'black')      \n",
    "plt.ylabel(\"Conteggio\",fontsize = 10,fontweight = '900', color = 'black')      \n",
    "\n",
    "plt.show()"
   ]
  },
  {
   "cell_type": "markdown",
   "metadata": {},
   "source": [
    "The TV is the favourite of the users, who are likely to be working out in a space as large as their living room."
   ]
  },
  {
   "cell_type": "code",
   "execution_count": null,
   "metadata": {},
   "outputs": [],
   "source": [
    "lang_order = df_2021['language'].value_counts().index\n",
    "\n",
    "plt.figure(figsize=(6,4))\n",
    "sns.countplot(data=df_2021, x = 'language',order = lang_order)\n",
    "\n",
    "plt.title('Popolarità delle lingue nel 2021',fontsize = 13, fontweight = '900', color = 'black')\n",
    "plt.xlabel(\"Lingue disponibili per le classi\",fontsize = 10,fontweight = '900', color = 'black')      \n",
    "plt.ylabel(\"Conteggio\",fontsize = 10,fontweight = '900', color = 'black')      \n",
    "\n",
    "plt.show()"
   ]
  },
  {
   "cell_type": "markdown",
   "metadata": {},
   "source": [
    "Most popular language is Italian"
   ]
  },
  {
   "cell_type": "code",
   "execution_count": null,
   "metadata": {},
   "outputs": [],
   "source": [
    "order_coach = df_2021['coach_id'].value_counts()\n",
    "\n",
    "top_10_coach = order_coach.head(10).index\n",
    "\n",
    "plt.figure(figsize=(10,6))\n",
    "sns.countplot(data=df_2021,x='coach_id',order=top_10_coach)\n",
    "\n",
    "plt.title('Conteggio delle classi per ogni coach',fontsize = 13, fontweight = '900', color = 'black')\n",
    "plt.xlabel(\"ID Coach\",fontsize = 10,fontweight = '900', color = 'black')      \n",
    "plt.ylabel(\"Conteggio\",fontsize = 10,fontweight = '900', color = 'black')      \n",
    "\n",
    "plt.show()"
   ]
  },
  {
   "cell_type": "code",
   "execution_count": null,
   "metadata": {},
   "outputs": [],
   "source": [
    "order_chall = df_2021['challenge_id'].value_counts().index\n",
    "\n",
    "plt.figure(figsize=(6,4))\n",
    "sns.countplot(data=df_2021,x='challenge_id', order = order_chall)\n",
    "\n",
    "plt.title('Popolarità delle challenge',fontsize = 13, fontweight = '900', color = 'black')\n",
    "plt.xlabel(\"Challenge ID\",fontsize = 10,fontweight = '900', color = 'black')      \n",
    "plt.ylabel(\"Conteggio\",fontsize = 10,fontweight = '900', color = 'black')      \n",
    "\n",
    "plt.show()"
   ]
  },
  {
   "cell_type": "markdown",
   "metadata": {},
   "source": [
    "Most users prefer medium length challenges, as the most popular challenge is 1."
   ]
  },
  {
   "cell_type": "code",
   "execution_count": null,
   "metadata": {},
   "outputs": [],
   "source": [
    "usr_count = df_2021['user_uuid'].nunique()\n",
    "coac_count= df_2021['coach_id'].nunique()\n",
    "clas_count= df_2021['class_id'].nunique()\n",
    "Class_date_uniq = df_2021['class_date'].nunique()\n",
    "class_date_count = df_2021['class_date'].count()\n",
    "avg_stars_score = df_2021['stars'].mean().__round__(2)\n",
    "\n",
    "stats = {\n",
    "    \"N. Utenti nel 2021\": usr_count,\n",
    "    \"N. Coach nel 2021\": coac_count,\n",
    "    'N. di classi nel 2021': clas_count,\n",
    "    \"N. giorni con accessi all'app\": Class_date_uniq,\n",
    "    \"N. di classi fatte nel 2021\": class_date_count,\n",
    "    \"Punteggio medio 'Stars' \" : avg_stars_score\n",
    "}\n",
    "\n",
    "# Ciclo for per stampare le informazioni\n",
    "for descrizione, valore in stats.items():\n",
    "    print(f\"{descrizione}: {valore}\") "
   ]
  },
  {
   "cell_type": "markdown",
   "metadata": {},
   "source": [
    "In a small summary of the statistics, we can see that the average \"stars\" score for the year 2021 is a good one."
   ]
  },
  {
   "cell_type": "code",
   "execution_count": null,
   "metadata": {},
   "outputs": [],
   "source": [
    "result_country = df_2021['country'].value_counts().reset_index()\n",
    "\n",
    "result_country.columns = ['country','N. Utenti per country']\n",
    "\n",
    "print('Country')\n",
    "print(result_country.to_string(index=False))"
   ]
  },
  {
   "cell_type": "markdown",
   "metadata": {},
   "source": [
    "Here we can see that Italy has the highest number of users (in fact, most of the classes are in the Italian language)."
   ]
  },
  {
   "cell_type": "code",
   "execution_count": null,
   "metadata": {},
   "outputs": [],
   "source": [
    "top_user = df_2021.groupby('user_uuid')['class_date'].count().reset_index()\n",
    "top_user.columns = ['ID_user','N. di Classi fatte']\n",
    "\n",
    "top_user = top_user.sort_values(by='N. di Classi fatte',ascending=False).head(5)\n",
    "\n",
    "sns.barplot(data=top_user,x='ID_user',y='N. di Classi fatte', order=top_user['ID_user'])\n",
    "plt.title('Classifica degli user più attivi in piattaforma',fontsize = 13, fontweight = '900', color = 'black')\n",
    "plt.xlabel(\"ID User\",fontsize = 10,fontweight = '900', color = 'black')      \n",
    "plt.ylabel(\"N. Classi fatte\",fontsize = 10,fontweight = '900', color = 'black')      \n",
    "\n",
    "plt.show()\n",
    "#valutare se togliere"
   ]
  },
  {
   "cell_type": "code",
   "execution_count": null,
   "metadata": {},
   "outputs": [],
   "source": [
    "Cat_mean_2021 = df_2021.groupby('category')['stars'].mean().__round__(2).sort_values(ascending=False).reset_index()"
   ]
  },
  {
   "cell_type": "markdown",
   "metadata": {},
   "source": [
    "Meditation is the category with the highest star rating."
   ]
  },
  {
   "cell_type": "code",
   "execution_count": null,
   "metadata": {},
   "outputs": [],
   "source": [
    "df_2021.to_excel('dataset2021.xlsx',index=False)\n"
   ]
  },
  {
   "cell_type": "markdown",
   "metadata": {},
   "source": [
    "Taking into account the size of the dataset under consideration,in this notebook we have seen that:\n",
    "\n",
    "- The most followed category is power yoga, while the most appreciated  is meditation\n",
    "\n",
    "- Membership has increased in most of the 2021\n",
    "\n",
    "- The most popular class is 6215 in the Power Yoga category, made 6 times each\n"
   ]
  },
  {
   "cell_type": "code",
   "execution_count": null,
   "metadata": {},
   "outputs": [],
   "source": []
  }
 ],
 "metadata": {
  "kernelspec": {
   "display_name": "CondaData",
   "language": "python",
   "name": "python3"
  },
  "language_info": {
   "codemirror_mode": {
    "name": "ipython",
    "version": 3
   },
   "file_extension": ".py",
   "mimetype": "text/x-python",
   "name": "python",
   "nbconvert_exporter": "python",
   "pygments_lexer": "ipython3",
   "version": "3.10.13"
  }
 },
 "nbformat": 4,
 "nbformat_minor": 2
}
